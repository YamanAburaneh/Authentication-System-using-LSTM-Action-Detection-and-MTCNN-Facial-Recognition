{
 "cells": [
  {
   "cell_type": "code",
   "execution_count": 2,
   "id": "78e47777",
   "metadata": {},
   "outputs": [],
   "source": [
    "# Import the MTCNN module from the facenet_pytorch package\n",
    "from facenet_pytorch import MTCNN, InceptionResnetV1\n",
    "\n",
    "# Import the torch library\n",
    "import torch\n",
    "\n",
    "# Import the datasets module from torchvision\n",
    "from torchvision import datasets\n",
    "\n",
    "# Import the DataLoader class from the torch.utils.data module\n",
    "from torch.utils.data import DataLoader\n",
    "\n",
    "# Import the Image module from PIL (Python Image Library)\n",
    "from PIL import Image\n",
    "\n",
    "# Import the OpenCV library for image processing\n",
    "import cv2\n",
    "\n",
    "# Import the time library for timing purposes\n",
    "import time\n",
    "\n",
    "# Import the os library for file and directory handling\n",
    "import os"
   ]
  },
  {
   "cell_type": "code",
   "execution_count": 3,
   "id": "d854be5a",
   "metadata": {},
   "outputs": [],
   "source": [
    "# initializing MTCNN and InceptionResnetV1 \n",
    "mtcnn0 = MTCNN(image_size=240, margin=0, keep_all=False, min_face_size=40) # keep_all=False if multiple faces keep all false and detect one only\n",
    "mtcnn = MTCNN(image_size=240, margin=0, keep_all=True, min_face_size=40) # keep_all=True to keep all faces in form of list\n",
    "resnet = InceptionResnetV1(pretrained='vggface2').eval()  # using vggface2 pretrained model \n",
    "\n",
    "# Read data from folder\n",
    "\n",
    "path = 'C:\\\\Users\\\\Dakhel\\\\'\n",
    "dataset = datasets.ImageFolder(path + \"FPhoto\") # photos folder path "
   ]
  },
  {
   "cell_type": "code",
   "execution_count": 15,
   "id": "e174173b",
   "metadata": {},
   "outputs": [],
   "source": [
    "\n",
    "idx_to_class = {i:c for c,i in dataset.class_to_idx.items()} # accessing names of peoples from folder names\n",
    "\n",
    "def collate_fn(x):\n",
    "    return x[0]\n",
    "\n",
    "loader = DataLoader(dataset, collate_fn=collate_fn)\n",
    "\n",
    "name_list = [] # list of names corrospoing to cropped photos\n",
    "embedding_list = [] # list of embeding matrix after conversion from cropped faces to embedding matrix using resnet\n",
    "\n",
    "for img, idx in loader:\n",
    "    face, prob = mtcnn0(img, return_prob=True) \n",
    "    if face is not None and prob>0.92:\n",
    "        emb = resnet(face.unsqueeze(0)) \n",
    "        embedding_list.append(emb.detach()) \n",
    "        name_list.append(idx_to_class[idx])        \n",
    "\n",
    "# save data\n",
    "data = [embedding_list, name_list] \n",
    "torch.save(data, 'data.pt') # saving data.pt file\n"
   ]
  }
 ],
 "metadata": {
  "kernelspec": {
   "display_name": "Python 3 (ipykernel)",
   "language": "python",
   "name": "python3"
  },
  "language_info": {
   "codemirror_mode": {
    "name": "ipython",
    "version": 3
   },
   "file_extension": ".py",
   "mimetype": "text/x-python",
   "name": "python",
   "nbconvert_exporter": "python",
   "pygments_lexer": "ipython3",
   "version": "3.9.13"
  }
 },
 "nbformat": 4,
 "nbformat_minor": 5
}
