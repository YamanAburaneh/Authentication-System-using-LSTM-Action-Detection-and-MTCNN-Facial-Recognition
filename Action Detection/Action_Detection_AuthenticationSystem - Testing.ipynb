{
 "cells": [
  {
   "cell_type": "markdown",
   "id": "107715d3",
   "metadata": {},
   "source": [
    "# Import Libraries"
   ]
  },
  {
   "cell_type": "code",
   "execution_count": 1,
   "id": "be353213",
   "metadata": {},
   "outputs": [],
   "source": [
    "import cv2\n",
    "import numpy as np\n",
    "import os\n",
    "from matplotlib import pyplot as plt\n",
    "import time\n",
    "import mediapipe as mp\n",
    "from tensorflow.keras.models import Sequential\n",
    "from tensorflow.keras.layers import LSTM, Dense\n",
    "from tensorflow.keras.callbacks import TensorBoard\n",
    "from scipy import stats\n",
    "import pyttsx3"
   ]
  },
  {
   "cell_type": "markdown",
   "id": "fab20841",
   "metadata": {},
   "source": [
    "# Keypoints using MP Holistic"
   ]
  },
  {
   "cell_type": "code",
   "execution_count": 2,
   "id": "3060b174",
   "metadata": {},
   "outputs": [],
   "source": [
    "mp_holistic = mp.solutions.holistic # Holistic model\n",
    "mp_drawing = mp.solutions.drawing_utils # Drawing utilities"
   ]
  },
  {
   "cell_type": "code",
   "execution_count": 3,
   "id": "4cf69894",
   "metadata": {},
   "outputs": [],
   "source": [
    "def mediapipe_detection(image, model):\n",
    "    image = cv2.cvtColor(image, cv2.COLOR_BGR2RGB) # COLOR CONVERSION BGR 2 RGB\n",
    "    image.flags.writeable = False                  # Image is no longer writeable\n",
    "    results = model.process(image)                 # Make prediction\n",
    "    image.flags.writeable = True                   # Image is now writeable \n",
    "    image = cv2.cvtColor(image, cv2.COLOR_RGB2BGR) # COLOR COVERSION RGB 2 BGR\n",
    "    return image, results"
   ]
  },
  {
   "cell_type": "code",
   "execution_count": 4,
   "id": "f26d21df",
   "metadata": {},
   "outputs": [],
   "source": [
    "def draw_landmarks(image, results):\n",
    "    # Draw right hand connections  \n",
    "    mp_drawing.draw_landmarks(image, results.right_hand_landmarks, mp_holistic.HAND_CONNECTIONS, \n",
    "                             mp_drawing.DrawingSpec(color=(120,120,120), thickness=2, circle_radius=4), \n",
    "                             mp_drawing.DrawingSpec(color=(1,1,1), thickness=2, circle_radius=2)) "
   ]
  },
  {
   "cell_type": "markdown",
   "id": "c9e60476",
   "metadata": {},
   "source": [
    "# Extract Keypoint Values"
   ]
  },
  {
   "cell_type": "code",
   "execution_count": 5,
   "id": "353c1b9f",
   "metadata": {},
   "outputs": [],
   "source": [
    "def extract_keypoints(results):\n",
    "    rh = np.array([[res.x, res.y, res.z] for res in results.right_hand_landmarks.landmark]).flatten() if results.right_hand_landmarks else np.zeros(21*3)\n",
    "    return np.concatenate([rh])"
   ]
  },
  {
   "cell_type": "markdown",
   "id": "c111ad93",
   "metadata": {},
   "source": [
    "# LSTM RNN Model using Tensorflow"
   ]
  },
  {
   "cell_type": "code",
   "execution_count": 6,
   "id": "7195ba99",
   "metadata": {},
   "outputs": [],
   "source": [
    "# Actions that we try to detect\n",
    "actions = np.array(['zero', 'one', 'two', 'three', 'four', 'five'])"
   ]
  },
  {
   "cell_type": "code",
   "execution_count": 7,
   "id": "7f67abec",
   "metadata": {},
   "outputs": [],
   "source": [
    "log_dir = os.path.join('Logs')\n",
    "tb_callback = TensorBoard(log_dir=log_dir)"
   ]
  },
  {
   "cell_type": "code",
   "execution_count": 8,
   "id": "bef65930",
   "metadata": {},
   "outputs": [],
   "source": [
    "model = Sequential()\n",
    "model.add(LSTM(32, return_sequences=True, activation='relu', input_shape=(30,63)))\n",
    "model.add(LSTM(128, return_sequences=True, activation='relu'))\n",
    "model.add(LSTM(64, return_sequences=False, activation='relu'))\n",
    "model.add(Dense(64, activation='relu'))\n",
    "model.add(Dense(32, activation='relu'))\n",
    "model.add(Dense(actions.shape[0], activation='softmax'))"
   ]
  },
  {
   "cell_type": "code",
   "execution_count": 9,
   "id": "0dfaa908",
   "metadata": {},
   "outputs": [],
   "source": [
    "model.compile(optimizer='Adam', loss='categorical_crossentropy', metrics=['categorical_accuracy'])"
   ]
  },
  {
   "cell_type": "code",
   "execution_count": 10,
   "id": "453050b4",
   "metadata": {},
   "outputs": [],
   "source": [
    "model.load_weights('actionDetection.h5')"
   ]
  },
  {
   "cell_type": "code",
   "execution_count": 11,
   "id": "8732c29f",
   "metadata": {},
   "outputs": [],
   "source": [
    "#model.fit(X_train, y_train, epochs=500, callbacks=[tb_callback])"
   ]
  },
  {
   "cell_type": "code",
   "execution_count": 12,
   "id": "59c86678",
   "metadata": {},
   "outputs": [
    {
     "name": "stdout",
     "output_type": "stream",
     "text": [
      "Model: \"sequential\"\n",
      "_________________________________________________________________\n",
      "Layer (type)                 Output Shape              Param #   \n",
      "=================================================================\n",
      "lstm (LSTM)                  (None, 30, 32)            12288     \n",
      "_________________________________________________________________\n",
      "lstm_1 (LSTM)                (None, 30, 128)           82432     \n",
      "_________________________________________________________________\n",
      "lstm_2 (LSTM)                (None, 64)                49408     \n",
      "_________________________________________________________________\n",
      "dense (Dense)                (None, 64)                4160      \n",
      "_________________________________________________________________\n",
      "dense_1 (Dense)              (None, 32)                2080      \n",
      "_________________________________________________________________\n",
      "dense_2 (Dense)              (None, 6)                 198       \n",
      "=================================================================\n",
      "Total params: 150,566\n",
      "Trainable params: 150,566\n",
      "Non-trainable params: 0\n",
      "_________________________________________________________________\n"
     ]
    }
   ],
   "source": [
    "model.summary()"
   ]
  },
  {
   "cell_type": "markdown",
   "id": "647c6d77",
   "metadata": {},
   "source": [
    "# Test in Real Time"
   ]
  },
  {
   "cell_type": "code",
   "execution_count": 13,
   "id": "a9230aa8",
   "metadata": {},
   "outputs": [],
   "source": [
    "colors = [(245,117,16), (117,245,16), (16,117,245)]\n",
    "def prob_viz(res, actions, input_frame, colors):\n",
    "    output_frame = input_frame.copy()\n",
    "    for num, prob in enumerate(res):\n",
    "        cv2.rectangle(output_frame, (0,60+num*40), (int(prob*100), 90+num*40), colors[num], -1)\n",
    "        cv2.putText(output_frame, actions[num], (0, 85+num*40), cv2.FONT_HERSHEY_SIMPLEX, 1, (255,255,255), 2, cv2.LINE_AA)\n",
    "        \n",
    "    return output_frame"
   ]
  },
  {
   "cell_type": "code",
   "execution_count": 14,
   "id": "3ef16c34",
   "metadata": {},
   "outputs": [
    {
     "name": "stdout",
     "output_type": "stream",
     "text": [
      "<class 'mediapipe.python.solution_base.SolutionOutputs'>\n",
      "<class 'mediapipe.python.solution_base.SolutionOutputs'>\n",
      "<class 'mediapipe.python.solution_base.SolutionOutputs'>\n",
      "<class 'mediapipe.python.solution_base.SolutionOutputs'>\n",
      "<class 'mediapipe.python.solution_base.SolutionOutputs'>\n",
      "<class 'mediapipe.python.solution_base.SolutionOutputs'>\n",
      "<class 'mediapipe.python.solution_base.SolutionOutputs'>\n",
      "<class 'mediapipe.python.solution_base.SolutionOutputs'>\n",
      "<class 'mediapipe.python.solution_base.SolutionOutputs'>\n",
      "<class 'mediapipe.python.solution_base.SolutionOutputs'>\n",
      "<class 'mediapipe.python.solution_base.SolutionOutputs'>\n",
      "<class 'mediapipe.python.solution_base.SolutionOutputs'>\n",
      "<class 'mediapipe.python.solution_base.SolutionOutputs'>\n",
      "<class 'mediapipe.python.solution_base.SolutionOutputs'>\n",
      "<class 'mediapipe.python.solution_base.SolutionOutputs'>\n",
      "<class 'mediapipe.python.solution_base.SolutionOutputs'>\n",
      "<class 'mediapipe.python.solution_base.SolutionOutputs'>\n",
      "<class 'mediapipe.python.solution_base.SolutionOutputs'>\n",
      "<class 'mediapipe.python.solution_base.SolutionOutputs'>\n",
      "<class 'mediapipe.python.solution_base.SolutionOutputs'>\n",
      "<class 'mediapipe.python.solution_base.SolutionOutputs'>\n",
      "<class 'mediapipe.python.solution_base.SolutionOutputs'>\n",
      "<class 'mediapipe.python.solution_base.SolutionOutputs'>\n",
      "<class 'mediapipe.python.solution_base.SolutionOutputs'>\n",
      "<class 'mediapipe.python.solution_base.SolutionOutputs'>\n",
      "<class 'mediapipe.python.solution_base.SolutionOutputs'>\n",
      "<class 'mediapipe.python.solution_base.SolutionOutputs'>\n",
      "<class 'mediapipe.python.solution_base.SolutionOutputs'>\n",
      "<class 'mediapipe.python.solution_base.SolutionOutputs'>\n",
      "<class 'mediapipe.python.solution_base.SolutionOutputs'>\n",
      "zero\n",
      "<class 'mediapipe.python.solution_base.SolutionOutputs'>\n",
      "zero\n",
      "<class 'mediapipe.python.solution_base.SolutionOutputs'>\n",
      "zero\n",
      "<class 'mediapipe.python.solution_base.SolutionOutputs'>\n",
      "zero\n",
      "<class 'mediapipe.python.solution_base.SolutionOutputs'>\n",
      "zero\n",
      "<class 'mediapipe.python.solution_base.SolutionOutputs'>\n",
      "zero\n",
      "<class 'mediapipe.python.solution_base.SolutionOutputs'>\n",
      "zero\n",
      "<class 'mediapipe.python.solution_base.SolutionOutputs'>\n",
      "zero\n",
      "<class 'mediapipe.python.solution_base.SolutionOutputs'>\n",
      "zero\n",
      "<class 'mediapipe.python.solution_base.SolutionOutputs'>\n",
      "zero\n",
      "<class 'mediapipe.python.solution_base.SolutionOutputs'>\n",
      "zero\n",
      "<class 'mediapipe.python.solution_base.SolutionOutputs'>\n",
      "zero\n",
      "<class 'mediapipe.python.solution_base.SolutionOutputs'>\n",
      "zero\n",
      "<class 'mediapipe.python.solution_base.SolutionOutputs'>\n",
      "zero\n",
      "<class 'mediapipe.python.solution_base.SolutionOutputs'>\n",
      "zero\n",
      "<class 'mediapipe.python.solution_base.SolutionOutputs'>\n",
      "zero\n",
      "<class 'mediapipe.python.solution_base.SolutionOutputs'>\n",
      "zero\n",
      "<class 'mediapipe.python.solution_base.SolutionOutputs'>\n",
      "zero\n",
      "<class 'mediapipe.python.solution_base.SolutionOutputs'>\n",
      "zero\n",
      "<class 'mediapipe.python.solution_base.SolutionOutputs'>\n",
      "zero\n",
      "<class 'mediapipe.python.solution_base.SolutionOutputs'>\n",
      "zero\n",
      "<class 'mediapipe.python.solution_base.SolutionOutputs'>\n",
      "zero\n",
      "<class 'mediapipe.python.solution_base.SolutionOutputs'>\n",
      "four\n",
      "<class 'mediapipe.python.solution_base.SolutionOutputs'>\n",
      "four\n",
      "<class 'mediapipe.python.solution_base.SolutionOutputs'>\n",
      "four\n",
      "<class 'mediapipe.python.solution_base.SolutionOutputs'>\n",
      "four\n",
      "<class 'mediapipe.python.solution_base.SolutionOutputs'>\n",
      "four\n",
      "<class 'mediapipe.python.solution_base.SolutionOutputs'>\n",
      "four\n",
      "<class 'mediapipe.python.solution_base.SolutionOutputs'>\n",
      "four\n",
      "<class 'mediapipe.python.solution_base.SolutionOutputs'>\n",
      "four\n",
      "<class 'mediapipe.python.solution_base.SolutionOutputs'>\n",
      "five\n",
      "<class 'mediapipe.python.solution_base.SolutionOutputs'>\n",
      "five\n",
      "<class 'mediapipe.python.solution_base.SolutionOutputs'>\n",
      "five\n",
      "<class 'mediapipe.python.solution_base.SolutionOutputs'>\n",
      "five\n",
      "<class 'mediapipe.python.solution_base.SolutionOutputs'>\n",
      "five\n",
      "<class 'mediapipe.python.solution_base.SolutionOutputs'>\n",
      "five\n",
      "<class 'mediapipe.python.solution_base.SolutionOutputs'>\n",
      "five\n",
      "<class 'mediapipe.python.solution_base.SolutionOutputs'>\n",
      "five\n",
      "<class 'mediapipe.python.solution_base.SolutionOutputs'>\n",
      "four\n",
      "<class 'mediapipe.python.solution_base.SolutionOutputs'>\n",
      "four\n",
      "<class 'mediapipe.python.solution_base.SolutionOutputs'>\n",
      "four\n",
      "<class 'mediapipe.python.solution_base.SolutionOutputs'>\n",
      "four\n",
      "<class 'mediapipe.python.solution_base.SolutionOutputs'>\n",
      "four\n",
      "<class 'mediapipe.python.solution_base.SolutionOutputs'>\n",
      "four\n",
      "<class 'mediapipe.python.solution_base.SolutionOutputs'>\n",
      "four\n",
      "<class 'mediapipe.python.solution_base.SolutionOutputs'>\n",
      "four\n",
      "<class 'mediapipe.python.solution_base.SolutionOutputs'>\n",
      "four\n",
      "<class 'mediapipe.python.solution_base.SolutionOutputs'>\n",
      "four\n",
      "<class 'mediapipe.python.solution_base.SolutionOutputs'>\n",
      "four\n",
      "<class 'mediapipe.python.solution_base.SolutionOutputs'>\n",
      "five\n",
      "<class 'mediapipe.python.solution_base.SolutionOutputs'>\n",
      "five\n",
      "<class 'mediapipe.python.solution_base.SolutionOutputs'>\n",
      "five\n",
      "<class 'mediapipe.python.solution_base.SolutionOutputs'>\n",
      "five\n",
      "<class 'mediapipe.python.solution_base.SolutionOutputs'>\n",
      "five\n",
      "<class 'mediapipe.python.solution_base.SolutionOutputs'>\n",
      "five\n",
      "<class 'mediapipe.python.solution_base.SolutionOutputs'>\n",
      "five\n",
      "<class 'mediapipe.python.solution_base.SolutionOutputs'>\n",
      "five\n",
      "<class 'mediapipe.python.solution_base.SolutionOutputs'>\n",
      "five\n",
      "<class 'mediapipe.python.solution_base.SolutionOutputs'>\n",
      "five\n",
      "<class 'mediapipe.python.solution_base.SolutionOutputs'>\n",
      "four\n"
     ]
    }
   ],
   "source": [
    "# Text to Speech Module\n",
    "engine = pyttsx3.init()\n",
    "voices = engine.getProperty('voices')\n",
    "engine.setProperty('voice', voices[1].id)\n",
    "volume = engine.getProperty('volume')\n",
    "engine.setProperty('volume',1.0)\n",
    "rate = engine.getProperty('rate')\n",
    "engine.setProperty('rate', 125) \n",
    "\n",
    "\n",
    "# 1. New detection variables\n",
    "sequence = []\n",
    "sentence = []\n",
    "predictions = []\n",
    "threshold = 0.7\n",
    "\n",
    "cap = cv2.VideoCapture(0)\n",
    "# Set mediapipe model \n",
    "with mp_holistic.Holistic(min_detection_confidence=0.5, min_tracking_confidence=0.5) as holistic:\n",
    "    while cap.isOpened():\n",
    "\n",
    "        # Read feed\n",
    "        ret, frame = cap.read()\n",
    "\n",
    "        # Make detections\n",
    "        image, results = mediapipe_detection(frame, holistic)\n",
    "        print(results)\n",
    "        \n",
    "        # Draw landmarks\n",
    "        draw_landmarks(image, results)\n",
    "        \n",
    "        # 2. Prediction logic\n",
    "        keypoints = extract_keypoints(results)\n",
    "        sequence.append(keypoints)\n",
    "        sequence = sequence[-30:]\n",
    "        \n",
    "        if len(sequence) == 30:\n",
    "            res = model.predict(np.expand_dims(sequence, axis=0))[0]\n",
    "            print(actions[np.argmax(res)])\n",
    "            predictions.append(np.argmax(res))\n",
    "            \n",
    "            \n",
    "        #3. Viz logic\n",
    "            if np.unique(predictions[-10:])[0]==np.argmax(res): \n",
    "                if res[np.argmax(res)] > threshold: \n",
    "                    \n",
    "                    if len(sentence) > 0: \n",
    "                        if actions[np.argmax(res)] != sentence[-1]:\n",
    "                            sentence.append(actions[np.argmax(res)])\n",
    "                    else:\n",
    "                        sentence.append(actions[np.argmax(res)])\n",
    "\n",
    "            if len(sentence) > 10: \n",
    "                sentence = sentence[-10:]\n",
    "            \n",
    "        cv2.rectangle(image, (0,0), (640, 40), (0, 0, 0), -1)\n",
    "        cv2.putText(image, ' '.join(sentence), (3,30), \n",
    "                       cv2.FONT_HERSHEY_SIMPLEX, 1, (255, 255, 255), 2, cv2.LINE_AA)\n",
    "        \n",
    "        # uthentication\n",
    "        password = ['five', 'three', 'one', 'zero']\n",
    "        access_status = np.array_equal(password,sentence)\n",
    "        if len(sentence) == 4:\n",
    "            if access_status:\n",
    "                cv2.rectangle(image, (0,40), (640, 80), (50, 50, 50), -1)\n",
    "                cv2.putText(image, 'Access Granted', (3,70), \n",
    "                               cv2.FONT_HERSHEY_SIMPLEX, 1, (255, 255, 255), 2, cv2.LINE_AA)\n",
    "                engine.say(\"Access Granted\")\n",
    "                engine.runAndWait()\n",
    "                engine.stop()\n",
    "                break\n",
    "            elif access_status == 0:\n",
    "                cv2.rectangle(image, (0,40), (640, 80), (50, 50, 50), -1)\n",
    "                cv2.putText(image, 'Access Denied', (3,70), \n",
    "                               cv2.FONT_HERSHEY_SIMPLEX, 1, (255, 255, 255), 2, cv2.LINE_AA)\n",
    "                engine.say(\"Access Denied, please try again\")\n",
    "                engine.runAndWait()\n",
    "                engine.stop()\n",
    "                break\n",
    "        \n",
    "        # Show to screen\n",
    "        cv2.imshow('OpenCV Feed', image)\n",
    "\n",
    "        # Break gracefully\n",
    "        if cv2.waitKey(10) & 0xFF == ord('q'):\n",
    "            break\n",
    "    cap.release()\n",
    "    cv2.destroyAllWindows()"
   ]
  },
  {
   "cell_type": "code",
   "execution_count": null,
   "id": "497ddc6c",
   "metadata": {},
   "outputs": [],
   "source": [
    "cap.release()\n",
    "cv2.destroyAllWindows()"
   ]
  }
 ],
 "metadata": {
  "kernelspec": {
   "display_name": "MachineVision",
   "language": "python",
   "name": "machinevision"
  },
  "language_info": {
   "codemirror_mode": {
    "name": "ipython",
    "version": 3
   },
   "file_extension": ".py",
   "mimetype": "text/x-python",
   "name": "python",
   "nbconvert_exporter": "python",
   "pygments_lexer": "ipython3",
   "version": "3.7.15"
  }
 },
 "nbformat": 4,
 "nbformat_minor": 5
}
