{
 "cells": [
  {
   "cell_type": "markdown",
   "id": "107715d3",
   "metadata": {},
   "source": [
    "# Import Libraries"
   ]
  },
  {
   "cell_type": "code",
   "execution_count": 1,
   "id": "be353213",
   "metadata": {},
   "outputs": [],
   "source": [
    "import cv2\n",
    "import numpy as np\n",
    "import os\n",
    "from matplotlib import pyplot as plt\n",
    "import time\n",
    "import mediapipe as mp\n",
    "from scipy import stats\n",
    "from sklearn.model_selection import train_test_split\n",
    "from sklearn.metrics import multilabel_confusion_matrix, accuracy_score\n",
    "from tensorflow.keras.utils import to_categorical\n",
    "from tensorflow.keras.models import Sequential\n",
    "from tensorflow.keras.layers import LSTM, Dense\n",
    "from tensorflow.keras.callbacks import TensorBoard\n",
    "import pyttsx3"
   ]
  },
  {
   "cell_type": "markdown",
   "id": "fab20841",
   "metadata": {},
   "source": [
    "# Keypoints using MP Holistic"
   ]
  },
  {
   "cell_type": "code",
   "execution_count": 2,
   "id": "3060b174",
   "metadata": {},
   "outputs": [],
   "source": [
    "mp_holistic = mp.solutions.holistic # Holistic model\n",
    "mp_drawing = mp.solutions.drawing_utils # Drawing utilities"
   ]
  },
  {
   "cell_type": "code",
   "execution_count": 3,
   "id": "4cf69894",
   "metadata": {},
   "outputs": [],
   "source": [
    "def mediapipe_detection(image, model):\n",
    "    image = cv2.cvtColor(image, cv2.COLOR_BGR2RGB) # COLOR CONVERSION BGR 2 RGB\n",
    "    image.flags.writeable = False                  # Image is no longer writeable\n",
    "    results = model.process(image)                 # Make prediction\n",
    "    image.flags.writeable = True                   # Image is now writeable \n",
    "    image = cv2.cvtColor(image, cv2.COLOR_RGB2BGR) # COLOR COVERSION RGB 2 BGR\n",
    "    return image, results"
   ]
  },
  {
   "cell_type": "code",
   "execution_count": 4,
   "id": "f26d21df",
   "metadata": {},
   "outputs": [],
   "source": [
    "def draw_landmarks(image, results):\n",
    "    # Draw right hand connections  \n",
    "    mp_drawing.draw_landmarks(image, results.right_hand_landmarks, mp_holistic.HAND_CONNECTIONS, \n",
    "                             mp_drawing.DrawingSpec(color=(120,120,120), thickness=2, circle_radius=4), \n",
    "                             mp_drawing.DrawingSpec(color=(1,1,1), thickness=2, circle_radius=2)) "
   ]
  },
  {
   "cell_type": "code",
   "execution_count": 5,
   "id": "43764d03",
   "metadata": {
    "collapsed": true
   },
   "outputs": [
    {
     "name": "stdout",
     "output_type": "stream",
     "text": [
      "<class 'mediapipe.python.solution_base.SolutionOutputs'>\n",
      "<class 'mediapipe.python.solution_base.SolutionOutputs'>\n",
      "<class 'mediapipe.python.solution_base.SolutionOutputs'>\n",
      "<class 'mediapipe.python.solution_base.SolutionOutputs'>\n",
      "<class 'mediapipe.python.solution_base.SolutionOutputs'>\n",
      "<class 'mediapipe.python.solution_base.SolutionOutputs'>\n",
      "<class 'mediapipe.python.solution_base.SolutionOutputs'>\n",
      "<class 'mediapipe.python.solution_base.SolutionOutputs'>\n",
      "<class 'mediapipe.python.solution_base.SolutionOutputs'>\n",
      "<class 'mediapipe.python.solution_base.SolutionOutputs'>\n",
      "<class 'mediapipe.python.solution_base.SolutionOutputs'>\n",
      "<class 'mediapipe.python.solution_base.SolutionOutputs'>\n",
      "<class 'mediapipe.python.solution_base.SolutionOutputs'>\n",
      "<class 'mediapipe.python.solution_base.SolutionOutputs'>\n",
      "<class 'mediapipe.python.solution_base.SolutionOutputs'>\n",
      "<class 'mediapipe.python.solution_base.SolutionOutputs'>\n",
      "<class 'mediapipe.python.solution_base.SolutionOutputs'>\n",
      "<class 'mediapipe.python.solution_base.SolutionOutputs'>\n",
      "<class 'mediapipe.python.solution_base.SolutionOutputs'>\n",
      "<class 'mediapipe.python.solution_base.SolutionOutputs'>\n",
      "<class 'mediapipe.python.solution_base.SolutionOutputs'>\n",
      "<class 'mediapipe.python.solution_base.SolutionOutputs'>\n",
      "<class 'mediapipe.python.solution_base.SolutionOutputs'>\n",
      "<class 'mediapipe.python.solution_base.SolutionOutputs'>\n",
      "<class 'mediapipe.python.solution_base.SolutionOutputs'>\n",
      "<class 'mediapipe.python.solution_base.SolutionOutputs'>\n",
      "<class 'mediapipe.python.solution_base.SolutionOutputs'>\n",
      "<class 'mediapipe.python.solution_base.SolutionOutputs'>\n",
      "<class 'mediapipe.python.solution_base.SolutionOutputs'>\n",
      "<class 'mediapipe.python.solution_base.SolutionOutputs'>\n",
      "<class 'mediapipe.python.solution_base.SolutionOutputs'>\n",
      "<class 'mediapipe.python.solution_base.SolutionOutputs'>\n",
      "<class 'mediapipe.python.solution_base.SolutionOutputs'>\n",
      "<class 'mediapipe.python.solution_base.SolutionOutputs'>\n",
      "<class 'mediapipe.python.solution_base.SolutionOutputs'>\n",
      "<class 'mediapipe.python.solution_base.SolutionOutputs'>\n",
      "<class 'mediapipe.python.solution_base.SolutionOutputs'>\n",
      "<class 'mediapipe.python.solution_base.SolutionOutputs'>\n",
      "<class 'mediapipe.python.solution_base.SolutionOutputs'>\n",
      "<class 'mediapipe.python.solution_base.SolutionOutputs'>\n",
      "<class 'mediapipe.python.solution_base.SolutionOutputs'>\n",
      "<class 'mediapipe.python.solution_base.SolutionOutputs'>\n",
      "<class 'mediapipe.python.solution_base.SolutionOutputs'>\n",
      "<class 'mediapipe.python.solution_base.SolutionOutputs'>\n",
      "<class 'mediapipe.python.solution_base.SolutionOutputs'>\n",
      "<class 'mediapipe.python.solution_base.SolutionOutputs'>\n",
      "<class 'mediapipe.python.solution_base.SolutionOutputs'>\n",
      "<class 'mediapipe.python.solution_base.SolutionOutputs'>\n",
      "<class 'mediapipe.python.solution_base.SolutionOutputs'>\n",
      "<class 'mediapipe.python.solution_base.SolutionOutputs'>\n",
      "<class 'mediapipe.python.solution_base.SolutionOutputs'>\n",
      "<class 'mediapipe.python.solution_base.SolutionOutputs'>\n",
      "<class 'mediapipe.python.solution_base.SolutionOutputs'>\n",
      "<class 'mediapipe.python.solution_base.SolutionOutputs'>\n",
      "<class 'mediapipe.python.solution_base.SolutionOutputs'>\n",
      "<class 'mediapipe.python.solution_base.SolutionOutputs'>\n",
      "<class 'mediapipe.python.solution_base.SolutionOutputs'>\n",
      "<class 'mediapipe.python.solution_base.SolutionOutputs'>\n",
      "<class 'mediapipe.python.solution_base.SolutionOutputs'>\n",
      "<class 'mediapipe.python.solution_base.SolutionOutputs'>\n",
      "<class 'mediapipe.python.solution_base.SolutionOutputs'>\n",
      "<class 'mediapipe.python.solution_base.SolutionOutputs'>\n",
      "<class 'mediapipe.python.solution_base.SolutionOutputs'>\n",
      "<class 'mediapipe.python.solution_base.SolutionOutputs'>\n",
      "<class 'mediapipe.python.solution_base.SolutionOutputs'>\n",
      "<class 'mediapipe.python.solution_base.SolutionOutputs'>\n",
      "<class 'mediapipe.python.solution_base.SolutionOutputs'>\n",
      "<class 'mediapipe.python.solution_base.SolutionOutputs'>\n",
      "<class 'mediapipe.python.solution_base.SolutionOutputs'>\n",
      "<class 'mediapipe.python.solution_base.SolutionOutputs'>\n",
      "<class 'mediapipe.python.solution_base.SolutionOutputs'>\n",
      "<class 'mediapipe.python.solution_base.SolutionOutputs'>\n",
      "<class 'mediapipe.python.solution_base.SolutionOutputs'>\n",
      "<class 'mediapipe.python.solution_base.SolutionOutputs'>\n",
      "<class 'mediapipe.python.solution_base.SolutionOutputs'>\n",
      "<class 'mediapipe.python.solution_base.SolutionOutputs'>\n",
      "<class 'mediapipe.python.solution_base.SolutionOutputs'>\n",
      "<class 'mediapipe.python.solution_base.SolutionOutputs'>\n"
     ]
    }
   ],
   "source": [
    "cap = cv2.VideoCapture(0)\n",
    "# Set mediapipe model \n",
    "with mp_holistic.Holistic(min_detection_confidence=0.5, min_tracking_confidence=0.5) as holistic:\n",
    "    while cap.isOpened():\n",
    "\n",
    "        # Read feed\n",
    "        ret, frame = cap.read()\n",
    "\n",
    "        # Make detections\n",
    "        image, results = mediapipe_detection(frame, holistic)\n",
    "        print(results)\n",
    "        \n",
    "        # Draw landmarks\n",
    "        draw_landmarks(image, results)\n",
    "\n",
    "        # Show to screen\n",
    "        cv2.imshow('OpenCV Feed', image)\n",
    "\n",
    "        # Break gracefully\n",
    "        if cv2.waitKey(10) & 0xFF == ord('q'):\n",
    "            break\n",
    "    cap.release()\n",
    "    cv2.destroyAllWindows()"
   ]
  },
  {
   "cell_type": "code",
   "execution_count": 6,
   "id": "1386dc72",
   "metadata": {},
   "outputs": [],
   "source": [
    "draw_landmarks(frame, results)"
   ]
  },
  {
   "cell_type": "code",
   "execution_count": 7,
   "id": "843b6cf1",
   "metadata": {},
   "outputs": [
    {
     "data": {
      "text/plain": [
       "<matplotlib.image.AxesImage at 0x29b901e9f08>"
      ]
     },
     "execution_count": 7,
     "metadata": {},
     "output_type": "execute_result"
    },
    {
     "data": {
      "image/png": "[encoded data removed]",
      "text/plain": [
       "<Figure size 432x288 with 1 Axes>"
      ]
     },
     "metadata": {
      "needs_background": "light"
     },
     "output_type": "display_data"
    }
   ],
   "source": [
    "plt.imshow(cv2.cvtColor(frame, cv2.COLOR_BGR2RGB))"
   ]
  },
  {
   "cell_type": "markdown",
   "id": "c9e60476",
   "metadata": {},
   "source": [
    "# Extract Keypoint Values"
   ]
  },
  {
   "cell_type": "code",
   "execution_count": 8,
   "id": "e3180424",
   "metadata": {},
   "outputs": [
    {
     "data": {
      "text/plain": [
       "21"
      ]
     },
     "execution_count": 8,
     "metadata": {},
     "output_type": "execute_result"
    }
   ],
   "source": [
    "len(results.right_hand_landmarks.landmark)"
   ]
  },
  {
   "cell_type": "code",
   "execution_count": 9,
   "id": "0b37b8e1",
   "metadata": {},
   "outputs": [],
   "source": [
    "rh = np.array([[res.x, res.y, res.z] for res in results.right_hand_landmarks.landmark]).flatten() if results.right_hand_landmarks else np.zeros(21*3)"
   ]
  },
  {
   "cell_type": "code",
   "execution_count": 10,
   "id": "353c1b9f",
   "metadata": {},
   "outputs": [],
   "source": [
    "def extract_keypoints(results):\n",
    "    rh = np.array([[res.x, res.y, res.z] for res in results.right_hand_landmarks.landmark]).flatten() if results.right_hand_landmarks else np.zeros(21*3)\n",
    "    return np.concatenate([rh])"
   ]
  },
  {
   "cell_type": "code",
   "execution_count": 11,
   "id": "2c63c7f7",
   "metadata": {},
   "outputs": [],
   "source": [
    "result_test = extract_keypoints(results)"
   ]
  },
  {
   "cell_type": "code",
   "execution_count": 12,
   "id": "31290e37",
   "metadata": {},
   "outputs": [
    {
     "data": {
      "text/plain": [
       "array([ 4.69997644e-01,  8.92556489e-01,  6.25612074e-07,  5.75858831e-01,\n",
       "        8.44915867e-01, -3.40577662e-02,  6.60544574e-01,  7.26106644e-01,\n",
       "       -4.51531932e-02,  7.24072158e-01,  6.37745678e-01, -5.67069687e-02,\n",
       "        7.82063723e-01,  5.89258492e-01, -6.93097338e-02,  5.91911435e-01,\n",
       "        5.20271420e-01, -1.80013198e-02,  6.19165123e-01,  3.78906518e-01,\n",
       "       -4.42854688e-02,  6.38702929e-01,  2.90036470e-01, -6.91151097e-02,\n",
       "        6.56987727e-01,  2.14501530e-01, -8.81697387e-02,  5.27384996e-01,\n",
       "        5.05817115e-01, -2.47492250e-02,  5.37355721e-01,  3.51347685e-01,\n",
       "       -4.75860834e-02,  5.49762666e-01,  2.50581264e-01, -7.20392838e-02,\n",
       "        5.62204361e-01,  1.67370707e-01, -9.12831947e-02,  4.66473490e-01,\n",
       "        5.23671210e-01, -3.78444716e-02,  4.63906646e-01,  3.77320409e-01,\n",
       "       -6.23071268e-02,  4.69571054e-01,  2.77918190e-01, -8.44545588e-02,\n",
       "        4.77910161e-01,  1.91330701e-01, -1.00892082e-01,  4.06031489e-01,\n",
       "        5.65367162e-01, -5.52719496e-02,  3.90411198e-01,  4.46223825e-01,\n",
       "       -8.17584917e-02,  3.83205295e-01,  3.62333536e-01, -9.70657095e-02,\n",
       "        3.81525010e-01,  2.79989421e-01, -1.07616618e-01])"
      ]
     },
     "execution_count": 12,
     "metadata": {},
     "output_type": "execute_result"
    }
   ],
   "source": [
    "result_test"
   ]
  },
  {
   "cell_type": "markdown",
   "id": "b0a9cf98",
   "metadata": {},
   "source": [
    "# Setup Folders for Collection"
   ]
  },
  {
   "cell_type": "code",
   "execution_count": 13,
   "id": "3c2408fc",
   "metadata": {},
   "outputs": [],
   "source": [
    "# Path for exported data, numpy arrays\n",
    "DATA_PATH = os.path.join('Dataset') \n",
    "\n",
    "# Actions that we try to detect\n",
    "actions = np.array(['zero', 'one', 'two', 'three', 'four', 'five'])\n",
    "\n",
    "# Thirty videos worth of data\n",
    "no_sequences = 30\n",
    "\n",
    "# Videos are going to be 30 frames in length\n",
    "sequence_length = 30\n",
    "\n",
    "# Folder start\n",
    "start_folder = 0"
   ]
  },
  {
   "cell_type": "code",
   "execution_count": null,
   "id": "3801ab4c",
   "metadata": {},
   "outputs": [],
   "source": [
    "for action in actions: \n",
    "    for sequence in range(start_folder, start_folder+no_sequences):\n",
    "        try: \n",
    "            os.makedirs(os.path.join(DATA_PATH, action, str(sequence)))\n",
    "        except:\n",
    "            pass"
   ]
  },
  {
   "cell_type": "markdown",
   "id": "5d77c799",
   "metadata": {},
   "source": [
    "# Collect Keypoint Values for Training and Testing"
   ]
  },
  {
   "cell_type": "code",
   "execution_count": null,
   "id": "4682a4fc",
   "metadata": {},
   "outputs": [],
   "source": [
    "cap = cv2.VideoCapture(0)\n",
    "# Set mediapipe model \n",
    "with mp_holistic.Holistic(min_detection_confidence=0.5, min_tracking_confidence=0.5) as holistic:\n",
    "    \n",
    "    # NEW LOOP\n",
    "    # Loop through actions\n",
    "    for action in actions:\n",
    "        # Loop through sequences aka videos\n",
    "        for sequence in range(start_folder, start_folder+no_sequences):\n",
    "            # Loop through video length aka sequence length\n",
    "            for frame_num in range(sequence_length):\n",
    "\n",
    "                # Read feed\n",
    "                ret, frame = cap.read()\n",
    "\n",
    "                # Make detections\n",
    "                image, results = mediapipe_detection(frame, holistic)\n",
    "\n",
    "                # Draw landmarks\n",
    "                draw_landmarks(image, results)\n",
    "                \n",
    "                # NEW Apply wait logic\n",
    "                if frame_num == 0: \n",
    "                    cv2.putText(image, 'STARTING COLLECTION', (120,200), \n",
    "                               cv2.FONT_HERSHEY_SIMPLEX, 1, (0,255, 0), 4, cv2.LINE_AA)\n",
    "                    cv2.putText(image, 'Collecting frames for {} Video Number {}'.format(action, sequence), (15,12), \n",
    "                               cv2.FONT_HERSHEY_SIMPLEX, 0.5, (0, 0, 255), 1, cv2.LINE_AA)\n",
    "                    # Show to screen\n",
    "                    cv2.imshow('OpenCV Feed', image)\n",
    "                    cv2.waitKey(2000)\n",
    "                else: \n",
    "                    cv2.putText(image, 'Collecting frames for {} Video Number {}'.format(action, sequence), (15,12), \n",
    "                               cv2.FONT_HERSHEY_SIMPLEX, 0.5, (0, 0, 255), 1, cv2.LINE_AA)\n",
    "                    # Show to screen\n",
    "                    cv2.imshow('OpenCV Feed', image)\n",
    "                \n",
    "                # NEW Export keypoints\n",
    "                keypoints = extract_keypoints(results)\n",
    "                npy_path = os.path.join(DATA_PATH, action, str(sequence), str(frame_num))\n",
    "                np.save(npy_path, keypoints)\n",
    "\n",
    "                # Break gracefully\n",
    "                if cv2.waitKey(10) & 0xFF == ord('q'):\n",
    "                    break\n",
    "                    \n",
    "    cap.release()\n",
    "    cv2.destroyAllWindows()"
   ]
  },
  {
   "cell_type": "code",
   "execution_count": null,
   "id": "02da04ae",
   "metadata": {},
   "outputs": [],
   "source": [
    "cap.release()\n",
    "cv2.destroyAllWindows()"
   ]
  },
  {
   "cell_type": "markdown",
   "id": "c6f36689",
   "metadata": {},
   "source": [
    "# Preprocess Data and Create Labels and Features"
   ]
  },
  {
   "cell_type": "code",
   "execution_count": 15,
   "id": "48500fe0",
   "metadata": {},
   "outputs": [],
   "source": [
    "label_map = {label:num for num, label in enumerate(actions)}"
   ]
  },
  {
   "cell_type": "code",
   "execution_count": 16,
   "id": "c2f582fe",
   "metadata": {},
   "outputs": [
    {
     "data": {
      "text/plain": [
       "{'zero': 0, 'one': 1, 'two': 2, 'three': 3, 'four': 4, 'five': 5}"
      ]
     },
     "execution_count": 16,
     "metadata": {},
     "output_type": "execute_result"
    }
   ],
   "source": [
    "label_map"
   ]
  },
  {
   "cell_type": "code",
   "execution_count": 17,
   "id": "2cec073b",
   "metadata": {},
   "outputs": [],
   "source": [
    "sequences, labels = [], []\n",
    "for action in actions:\n",
    "    for sequence in np.array(os.listdir(os.path.join(DATA_PATH, action))).astype(int):\n",
    "        window = []\n",
    "        for frame_num in range(sequence_length):\n",
    "            res = np.load(os.path.join(DATA_PATH, action, str(sequence), \"{}.npy\".format(frame_num)))\n",
    "            window.append(res)\n",
    "        sequences.append(window)\n",
    "        labels.append(label_map[action])"
   ]
  },
  {
   "cell_type": "code",
   "execution_count": 18,
   "id": "21d998f5",
   "metadata": {},
   "outputs": [
    {
     "data": {
      "text/plain": [
       "(534, 30, 63)"
      ]
     },
     "execution_count": 18,
     "metadata": {},
     "output_type": "execute_result"
    }
   ],
   "source": [
    "np.array(sequences).shape"
   ]
  },
  {
   "cell_type": "code",
   "execution_count": 19,
   "id": "160b7b0c",
   "metadata": {},
   "outputs": [
    {
     "data": {
      "text/plain": [
       "(534,)"
      ]
     },
     "execution_count": 19,
     "metadata": {},
     "output_type": "execute_result"
    }
   ],
   "source": [
    "np.array(labels).shape"
   ]
  },
  {
   "cell_type": "code",
   "execution_count": 20,
   "id": "3b29ae0e",
   "metadata": {},
   "outputs": [],
   "source": [
    "X = np.array(sequences)"
   ]
  },
  {
   "cell_type": "code",
   "execution_count": 21,
   "id": "7f89cd43",
   "metadata": {},
   "outputs": [
    {
     "data": {
      "text/plain": [
       "(534, 30, 63)"
      ]
     },
     "execution_count": 21,
     "metadata": {},
     "output_type": "execute_result"
    }
   ],
   "source": [
    "X.shape"
   ]
  },
  {
   "cell_type": "code",
   "execution_count": 22,
   "id": "a48831dc",
   "metadata": {},
   "outputs": [],
   "source": [
    "y = to_categorical(labels).astype(int)"
   ]
  },
  {
   "cell_type": "code",
   "execution_count": 23,
   "id": "475c7334",
   "metadata": {},
   "outputs": [],
   "source": [
    "X_train, X_test, y_train, y_test = train_test_split(X, y, test_size=0.05)"
   ]
  },
  {
   "cell_type": "code",
   "execution_count": 24,
   "id": "ac74a51c",
   "metadata": {},
   "outputs": [
    {
     "data": {
      "text/plain": [
       "(507, 6)"
      ]
     },
     "execution_count": 24,
     "metadata": {},
     "output_type": "execute_result"
    }
   ],
   "source": [
    "y_train.shape"
   ]
  },
  {
   "cell_type": "code",
   "execution_count": 25,
   "id": "e31b87fb",
   "metadata": {},
   "outputs": [
    {
     "data": {
      "text/plain": [
       "(27, 6)"
      ]
     },
     "execution_count": 25,
     "metadata": {},
     "output_type": "execute_result"
    }
   ],
   "source": [
    "y_test.shape"
   ]
  },
  {
   "cell_type": "markdown",
   "id": "c111ad93",
   "metadata": {},
   "source": [
    "# LSTM RNN Model using Tensorflow"
   ]
  },
  {
   "cell_type": "code",
   "execution_count": 27,
   "id": "7f67abec",
   "metadata": {},
   "outputs": [],
   "source": [
    "log_dir = os.path.join('Logs')\n",
    "tb_callback = TensorBoard(log_dir=log_dir)"
   ]
  },
  {
   "cell_type": "code",
   "execution_count": 28,
   "id": "bef65930",
   "metadata": {},
   "outputs": [],
   "source": [
    "model = Sequential()\n",
    "model.add(LSTM(32, return_sequences=True, activation='relu', input_shape=(30,63)))\n",
    "model.add(LSTM(128, return_sequences=True, activation='relu'))\n",
    "model.add(LSTM(64, return_sequences=False, activation='relu'))\n",
    "model.add(Dense(64, activation='relu'))\n",
    "model.add(Dense(32, activation='relu'))\n",
    "model.add(Dense(actions.shape[0], activation='softmax'))"
   ]
  },
  {
   "cell_type": "code",
   "execution_count": 29,
   "id": "41689889",
   "metadata": {},
   "outputs": [],
   "source": [
    "res = [.7, 0.2, 0.1]"
   ]
  },
  {
   "cell_type": "code",
   "execution_count": 30,
   "id": "02f28236",
   "metadata": {},
   "outputs": [
    {
     "data": {
      "text/plain": [
       "'zero'"
      ]
     },
     "execution_count": 30,
     "metadata": {},
     "output_type": "execute_result"
    }
   ],
   "source": [
    "actions[np.argmax(res)]"
   ]
  },
  {
   "cell_type": "code",
   "execution_count": 31,
   "id": "0dfaa908",
   "metadata": {},
   "outputs": [],
   "source": [
    "model.compile(optimizer='Adam', loss='categorical_crossentropy', metrics=['categorical_accuracy'])"
   ]
  },
  {
   "attachments": {},
   "cell_type": "markdown",
   "id": "a4b11f8e",
   "metadata": {},
   "source": [
    "Training"
   ]
  },
  {
   "cell_type": "code",
   "execution_count": 32,
   "id": "8732c29f",
   "metadata": {
    "collapsed": true
   },
   "outputs": [
    {
     "name": "stdout",
     "output_type": "stream",
     "text": [
      "Epoch 1/500\n",
      " 9/16 [===============>..............] - ETA: 0s - loss: 1.7902 - categorical_accuracy: 0.1551"
     ]
    },
    {
     "ename": "KeyboardInterrupt",
     "evalue": "",
     "output_type": "error",
     "traceback": [
      "\u001b[1;31m---------------------------------------------------------------------------\u001b[0m",
      "\u001b[1;31mKeyboardInterrupt\u001b[0m                         Traceback (most recent call last)",
      "\u001b[1;32m~\\AppData\\Local\\Temp\\ipykernel_9568\\2367735595.py\u001b[0m in \u001b[0;36m<module>\u001b[1;34m\u001b[0m\n\u001b[1;32m----> 1\u001b[1;33m \u001b[0mmodel\u001b[0m\u001b[1;33m.\u001b[0m\u001b[0mfit\u001b[0m\u001b[1;33m(\u001b[0m\u001b[0mX_train\u001b[0m\u001b[1;33m,\u001b[0m \u001b[0my_train\u001b[0m\u001b[1;33m,\u001b[0m \u001b[0mepochs\u001b[0m\u001b[1;33m=\u001b[0m\u001b[1;36m500\u001b[0m\u001b[1;33m,\u001b[0m \u001b[0mcallbacks\u001b[0m\u001b[1;33m=\u001b[0m\u001b[1;33m[\u001b[0m\u001b[0mtb_callback\u001b[0m\u001b[1;33m]\u001b[0m\u001b[1;33m)\u001b[0m\u001b[1;33m\u001b[0m\u001b[1;33m\u001b[0m\u001b[0m\n\u001b[0m",
      "\u001b[1;32mC:\\ProgramData\\Anaconda3\\envs\\MachineVision\\lib\\site-packages\\tensorflow\\python\\keras\\engine\\training.py\u001b[0m in \u001b[0;36mfit\u001b[1;34m(self, x, y, batch_size, epochs, verbose, callbacks, validation_split, validation_data, shuffle, class_weight, sample_weight, initial_epoch, steps_per_epoch, validation_steps, validation_batch_size, validation_freq, max_queue_size, workers, use_multiprocessing)\u001b[0m\n\u001b[0;32m   1098\u001b[0m                 _r=1):\n\u001b[0;32m   1099\u001b[0m               \u001b[0mcallbacks\u001b[0m\u001b[1;33m.\u001b[0m\u001b[0mon_train_batch_begin\u001b[0m\u001b[1;33m(\u001b[0m\u001b[0mstep\u001b[0m\u001b[1;33m)\u001b[0m\u001b[1;33m\u001b[0m\u001b[1;33m\u001b[0m\u001b[0m\n\u001b[1;32m-> 1100\u001b[1;33m               \u001b[0mtmp_logs\u001b[0m \u001b[1;33m=\u001b[0m \u001b[0mself\u001b[0m\u001b[1;33m.\u001b[0m\u001b[0mtrain_function\u001b[0m\u001b[1;33m(\u001b[0m\u001b[0miterator\u001b[0m\u001b[1;33m)\u001b[0m\u001b[1;33m\u001b[0m\u001b[1;33m\u001b[0m\u001b[0m\n\u001b[0m\u001b[0;32m   1101\u001b[0m               \u001b[1;32mif\u001b[0m \u001b[0mdata_handler\u001b[0m\u001b[1;33m.\u001b[0m\u001b[0mshould_sync\u001b[0m\u001b[1;33m:\u001b[0m\u001b[1;33m\u001b[0m\u001b[1;33m\u001b[0m\u001b[0m\n\u001b[0;32m   1102\u001b[0m                 \u001b[0mcontext\u001b[0m\u001b[1;33m.\u001b[0m\u001b[0masync_wait\u001b[0m\u001b[1;33m(\u001b[0m\u001b[1;33m)\u001b[0m\u001b[1;33m\u001b[0m\u001b[1;33m\u001b[0m\u001b[0m\n",
      "\u001b[1;32mC:\\ProgramData\\Anaconda3\\envs\\MachineVision\\lib\\site-packages\\tensorflow\\python\\eager\\def_function.py\u001b[0m in \u001b[0;36m__call__\u001b[1;34m(self, *args, **kwds)\u001b[0m\n\u001b[0;32m    826\u001b[0m     \u001b[0mtracing_count\u001b[0m \u001b[1;33m=\u001b[0m \u001b[0mself\u001b[0m\u001b[1;33m.\u001b[0m\u001b[0mexperimental_get_tracing_count\u001b[0m\u001b[1;33m(\u001b[0m\u001b[1;33m)\u001b[0m\u001b[1;33m\u001b[0m\u001b[1;33m\u001b[0m\u001b[0m\n\u001b[0;32m    827\u001b[0m     \u001b[1;32mwith\u001b[0m \u001b[0mtrace\u001b[0m\u001b[1;33m.\u001b[0m\u001b[0mTrace\u001b[0m\u001b[1;33m(\u001b[0m\u001b[0mself\u001b[0m\u001b[1;33m.\u001b[0m\u001b[0m_name\u001b[0m\u001b[1;33m)\u001b[0m \u001b[1;32mas\u001b[0m \u001b[0mtm\u001b[0m\u001b[1;33m:\u001b[0m\u001b[1;33m\u001b[0m\u001b[1;33m\u001b[0m\u001b[0m\n\u001b[1;32m--> 828\u001b[1;33m       \u001b[0mresult\u001b[0m \u001b[1;33m=\u001b[0m \u001b[0mself\u001b[0m\u001b[1;33m.\u001b[0m\u001b[0m_call\u001b[0m\u001b[1;33m(\u001b[0m\u001b[1;33m*\u001b[0m\u001b[0margs\u001b[0m\u001b[1;33m,\u001b[0m \u001b[1;33m**\u001b[0m\u001b[0mkwds\u001b[0m\u001b[1;33m)\u001b[0m\u001b[1;33m\u001b[0m\u001b[1;33m\u001b[0m\u001b[0m\n\u001b[0m\u001b[0;32m    829\u001b[0m       \u001b[0mcompiler\u001b[0m \u001b[1;33m=\u001b[0m \u001b[1;34m\"xla\"\u001b[0m \u001b[1;32mif\u001b[0m \u001b[0mself\u001b[0m\u001b[1;33m.\u001b[0m\u001b[0m_experimental_compile\u001b[0m \u001b[1;32melse\u001b[0m \u001b[1;34m\"nonXla\"\u001b[0m\u001b[1;33m\u001b[0m\u001b[1;33m\u001b[0m\u001b[0m\n\u001b[0;32m    830\u001b[0m       \u001b[0mnew_tracing_count\u001b[0m \u001b[1;33m=\u001b[0m \u001b[0mself\u001b[0m\u001b[1;33m.\u001b[0m\u001b[0mexperimental_get_tracing_count\u001b[0m\u001b[1;33m(\u001b[0m\u001b[1;33m)\u001b[0m\u001b[1;33m\u001b[0m\u001b[1;33m\u001b[0m\u001b[0m\n",
      "\u001b[1;32mC:\\ProgramData\\Anaconda3\\envs\\MachineVision\\lib\\site-packages\\tensorflow\\python\\eager\\def_function.py\u001b[0m in \u001b[0;36m_call\u001b[1;34m(self, *args, **kwds)\u001b[0m\n\u001b[0;32m    853\u001b[0m       \u001b[1;31m# In this case we have created variables on the first call, so we run the\u001b[0m\u001b[1;33m\u001b[0m\u001b[1;33m\u001b[0m\u001b[1;33m\u001b[0m\u001b[0m\n\u001b[0;32m    854\u001b[0m       \u001b[1;31m# defunned version which is guaranteed to never create variables.\u001b[0m\u001b[1;33m\u001b[0m\u001b[1;33m\u001b[0m\u001b[1;33m\u001b[0m\u001b[0m\n\u001b[1;32m--> 855\u001b[1;33m       \u001b[1;32mreturn\u001b[0m \u001b[0mself\u001b[0m\u001b[1;33m.\u001b[0m\u001b[0m_stateless_fn\u001b[0m\u001b[1;33m(\u001b[0m\u001b[1;33m*\u001b[0m\u001b[0margs\u001b[0m\u001b[1;33m,\u001b[0m \u001b[1;33m**\u001b[0m\u001b[0mkwds\u001b[0m\u001b[1;33m)\u001b[0m  \u001b[1;31m# pylint: disable=not-callable\u001b[0m\u001b[1;33m\u001b[0m\u001b[1;33m\u001b[0m\u001b[0m\n\u001b[0m\u001b[0;32m    856\u001b[0m     \u001b[1;32melif\u001b[0m \u001b[0mself\u001b[0m\u001b[1;33m.\u001b[0m\u001b[0m_stateful_fn\u001b[0m \u001b[1;32mis\u001b[0m \u001b[1;32mnot\u001b[0m \u001b[1;32mNone\u001b[0m\u001b[1;33m:\u001b[0m\u001b[1;33m\u001b[0m\u001b[1;33m\u001b[0m\u001b[0m\n\u001b[0;32m    857\u001b[0m       \u001b[1;31m# Release the lock early so that multiple threads can perform the call\u001b[0m\u001b[1;33m\u001b[0m\u001b[1;33m\u001b[0m\u001b[1;33m\u001b[0m\u001b[0m\n",
      "\u001b[1;32mC:\\ProgramData\\Anaconda3\\envs\\MachineVision\\lib\\site-packages\\tensorflow\\python\\eager\\function.py\u001b[0m in \u001b[0;36m__call__\u001b[1;34m(self, *args, **kwargs)\u001b[0m\n\u001b[0;32m   2941\u001b[0m        filtered_flat_args) = self._maybe_define_function(args, kwargs)\n\u001b[0;32m   2942\u001b[0m     return graph_function._call_flat(\n\u001b[1;32m-> 2943\u001b[1;33m         filtered_flat_args, captured_inputs=graph_function.captured_inputs)  # pylint: disable=protected-access\n\u001b[0m\u001b[0;32m   2944\u001b[0m \u001b[1;33m\u001b[0m\u001b[0m\n\u001b[0;32m   2945\u001b[0m   \u001b[1;33m@\u001b[0m\u001b[0mproperty\u001b[0m\u001b[1;33m\u001b[0m\u001b[1;33m\u001b[0m\u001b[0m\n",
      "\u001b[1;32mC:\\ProgramData\\Anaconda3\\envs\\MachineVision\\lib\\site-packages\\tensorflow\\python\\eager\\function.py\u001b[0m in \u001b[0;36m_call_flat\u001b[1;34m(self, args, captured_inputs, cancellation_manager)\u001b[0m\n\u001b[0;32m   1917\u001b[0m       \u001b[1;31m# No tape is watching; skip to running the function.\u001b[0m\u001b[1;33m\u001b[0m\u001b[1;33m\u001b[0m\u001b[1;33m\u001b[0m\u001b[0m\n\u001b[0;32m   1918\u001b[0m       return self._build_call_outputs(self._inference_function.call(\n\u001b[1;32m-> 1919\u001b[1;33m           ctx, args, cancellation_manager=cancellation_manager))\n\u001b[0m\u001b[0;32m   1920\u001b[0m     forward_backward = self._select_forward_and_backward_functions(\n\u001b[0;32m   1921\u001b[0m         \u001b[0margs\u001b[0m\u001b[1;33m,\u001b[0m\u001b[1;33m\u001b[0m\u001b[1;33m\u001b[0m\u001b[0m\n",
      "\u001b[1;32mC:\\ProgramData\\Anaconda3\\envs\\MachineVision\\lib\\site-packages\\tensorflow\\python\\eager\\function.py\u001b[0m in \u001b[0;36mcall\u001b[1;34m(self, ctx, args, cancellation_manager)\u001b[0m\n\u001b[0;32m    558\u001b[0m               \u001b[0minputs\u001b[0m\u001b[1;33m=\u001b[0m\u001b[0margs\u001b[0m\u001b[1;33m,\u001b[0m\u001b[1;33m\u001b[0m\u001b[1;33m\u001b[0m\u001b[0m\n\u001b[0;32m    559\u001b[0m               \u001b[0mattrs\u001b[0m\u001b[1;33m=\u001b[0m\u001b[0mattrs\u001b[0m\u001b[1;33m,\u001b[0m\u001b[1;33m\u001b[0m\u001b[1;33m\u001b[0m\u001b[0m\n\u001b[1;32m--> 560\u001b[1;33m               ctx=ctx)\n\u001b[0m\u001b[0;32m    561\u001b[0m         \u001b[1;32melse\u001b[0m\u001b[1;33m:\u001b[0m\u001b[1;33m\u001b[0m\u001b[1;33m\u001b[0m\u001b[0m\n\u001b[0;32m    562\u001b[0m           outputs = execute.execute_with_cancellation(\n",
      "\u001b[1;32mC:\\ProgramData\\Anaconda3\\envs\\MachineVision\\lib\\site-packages\\tensorflow\\python\\eager\\execute.py\u001b[0m in \u001b[0;36mquick_execute\u001b[1;34m(op_name, num_outputs, inputs, attrs, ctx, name)\u001b[0m\n\u001b[0;32m     58\u001b[0m     \u001b[0mctx\u001b[0m\u001b[1;33m.\u001b[0m\u001b[0mensure_initialized\u001b[0m\u001b[1;33m(\u001b[0m\u001b[1;33m)\u001b[0m\u001b[1;33m\u001b[0m\u001b[1;33m\u001b[0m\u001b[0m\n\u001b[0;32m     59\u001b[0m     tensors = pywrap_tfe.TFE_Py_Execute(ctx._handle, device_name, op_name,\n\u001b[1;32m---> 60\u001b[1;33m                                         inputs, attrs, num_outputs)\n\u001b[0m\u001b[0;32m     61\u001b[0m   \u001b[1;32mexcept\u001b[0m \u001b[0mcore\u001b[0m\u001b[1;33m.\u001b[0m\u001b[0m_NotOkStatusException\u001b[0m \u001b[1;32mas\u001b[0m \u001b[0me\u001b[0m\u001b[1;33m:\u001b[0m\u001b[1;33m\u001b[0m\u001b[1;33m\u001b[0m\u001b[0m\n\u001b[0;32m     62\u001b[0m     \u001b[1;32mif\u001b[0m \u001b[0mname\u001b[0m \u001b[1;32mis\u001b[0m \u001b[1;32mnot\u001b[0m \u001b[1;32mNone\u001b[0m\u001b[1;33m:\u001b[0m\u001b[1;33m\u001b[0m\u001b[1;33m\u001b[0m\u001b[0m\n",
      "\u001b[1;31mKeyboardInterrupt\u001b[0m: "
     ]
    }
   ],
   "source": [
    "# model.fit(X_train, y_train, epochs=500, callbacks=[tb_callback])"
   ]
  },
  {
   "cell_type": "code",
   "execution_count": 83,
   "id": "59c86678",
   "metadata": {},
   "outputs": [
    {
     "name": "stdout",
     "output_type": "stream",
     "text": [
      "Model: \"sequential\"\n",
      "_________________________________________________________________\n",
      "Layer (type)                 Output Shape              Param #   \n",
      "=================================================================\n",
      "lstm (LSTM)                  (None, 30, 32)            12288     \n",
      "_________________________________________________________________\n",
      "lstm_1 (LSTM)                (None, 30, 128)           82432     \n",
      "_________________________________________________________________\n",
      "lstm_2 (LSTM)                (None, 64)                49408     \n",
      "_________________________________________________________________\n",
      "dense (Dense)                (None, 64)                4160      \n",
      "_________________________________________________________________\n",
      "dense_1 (Dense)              (None, 32)                2080      \n",
      "_________________________________________________________________\n",
      "dense_2 (Dense)              (None, 6)                 198       \n",
      "=================================================================\n",
      "Total params: 150,566\n",
      "Trainable params: 150,566\n",
      "Non-trainable params: 0\n",
      "_________________________________________________________________\n"
     ]
    }
   ],
   "source": [
    "model.summary()"
   ]
  },
  {
   "cell_type": "markdown",
   "id": "4fa662c0",
   "metadata": {},
   "source": [
    "# Make Predictions"
   ]
  },
  {
   "cell_type": "code",
   "execution_count": 34,
   "id": "bdf715a3",
   "metadata": {},
   "outputs": [],
   "source": [
    "res = model.predict(X_test)"
   ]
  },
  {
   "cell_type": "code",
   "execution_count": 35,
   "id": "50afd48f",
   "metadata": {},
   "outputs": [
    {
     "data": {
      "text/plain": [
       "'five'"
      ]
     },
     "execution_count": 35,
     "metadata": {},
     "output_type": "execute_result"
    }
   ],
   "source": [
    "actions[np.argmax(res[4])]"
   ]
  },
  {
   "cell_type": "code",
   "execution_count": 36,
   "id": "a76f0011",
   "metadata": {},
   "outputs": [
    {
     "data": {
      "text/plain": [
       "'five'"
      ]
     },
     "execution_count": 36,
     "metadata": {},
     "output_type": "execute_result"
    }
   ],
   "source": [
    "actions[np.argmax(y_test[4])]"
   ]
  },
  {
   "cell_type": "markdown",
   "id": "44d4e2ee",
   "metadata": {},
   "source": [
    "# Save Weights"
   ]
  },
  {
   "cell_type": "code",
   "execution_count": null,
   "id": "aa796a2a",
   "metadata": {},
   "outputs": [],
   "source": [
    "# model.save('actionDetection.h5')"
   ]
  },
  {
   "cell_type": "code",
   "execution_count": null,
   "id": "0ff7c294",
   "metadata": {},
   "outputs": [],
   "source": [
    "# del model"
   ]
  },
  {
   "cell_type": "code",
   "execution_count": 33,
   "id": "19af46fa",
   "metadata": {},
   "outputs": [],
   "source": [
    "model.load_weights('actionDetection.h5')"
   ]
  },
  {
   "cell_type": "markdown",
   "id": "d7c1ea0b",
   "metadata": {},
   "source": [
    "# Evaluation using Confusion Matrix and Accuracy"
   ]
  },
  {
   "cell_type": "code",
   "execution_count": 38,
   "id": "a207a361",
   "metadata": {},
   "outputs": [],
   "source": [
    "yhat = model.predict(X_test)"
   ]
  },
  {
   "cell_type": "code",
   "execution_count": 39,
   "id": "e056aec4",
   "metadata": {},
   "outputs": [],
   "source": [
    "ytrue = np.argmax(y_test, axis=1).tolist()\n",
    "yhat = np.argmax(yhat, axis=1).tolist()"
   ]
  },
  {
   "cell_type": "code",
   "execution_count": 40,
   "id": "a4c7933b",
   "metadata": {},
   "outputs": [
    {
     "data": {
      "text/plain": [
       "array([[[20,  1],\n",
       "        [ 0,  6]],\n",
       "\n",
       "       [[23,  0],\n",
       "        [ 1,  3]],\n",
       "\n",
       "       [[21,  0],\n",
       "        [ 0,  6]],\n",
       "\n",
       "       [[23,  0],\n",
       "        [ 0,  4]],\n",
       "\n",
       "       [[23,  0],\n",
       "        [ 0,  4]],\n",
       "\n",
       "       [[24,  0],\n",
       "        [ 0,  3]]], dtype=int64)"
      ]
     },
     "execution_count": 40,
     "metadata": {},
     "output_type": "execute_result"
    }
   ],
   "source": [
    "multilabel_confusion_matrix(ytrue, yhat)"
   ]
  },
  {
   "cell_type": "code",
   "execution_count": 41,
   "id": "4a850b4b",
   "metadata": {},
   "outputs": [
    {
     "data": {
      "text/plain": [
       "0.9629629629629629"
      ]
     },
     "execution_count": 41,
     "metadata": {},
     "output_type": "execute_result"
    }
   ],
   "source": [
    "accuracy_score(ytrue, yhat)"
   ]
  },
  {
   "cell_type": "markdown",
   "id": "647c6d77",
   "metadata": {},
   "source": [
    "# Test in Real Time"
   ]
  },
  {
   "cell_type": "code",
   "execution_count": 43,
   "id": "a9230aa8",
   "metadata": {},
   "outputs": [],
   "source": [
    "colors = [(245,117,16), (117,245,16), (16,117,245)]\n",
    "def prob_viz(res, actions, input_frame, colors):\n",
    "    output_frame = input_frame.copy()\n",
    "    for num, prob in enumerate(res):\n",
    "        cv2.rectangle(output_frame, (0,60+num*40), (int(prob*100), 90+num*40), colors[num], -1)\n",
    "        cv2.putText(output_frame, actions[num], (0, 85+num*40), cv2.FONT_HERSHEY_SIMPLEX, 1, (255,255,255), 2, cv2.LINE_AA)\n",
    "        \n",
    "    return output_frame"
   ]
  },
  {
   "cell_type": "code",
   "execution_count": 91,
   "id": "3ef16c34",
   "metadata": {},
   "outputs": [
    {
     "name": "stdout",
     "output_type": "stream",
     "text": [
      "<class 'mediapipe.python.solution_base.SolutionOutputs'>\n",
      "<class 'mediapipe.python.solution_base.SolutionOutputs'>\n",
      "<class 'mediapipe.python.solution_base.SolutionOutputs'>\n",
      "<class 'mediapipe.python.solution_base.SolutionOutputs'>\n",
      "<class 'mediapipe.python.solution_base.SolutionOutputs'>\n",
      "<class 'mediapipe.python.solution_base.SolutionOutputs'>\n",
      "<class 'mediapipe.python.solution_base.SolutionOutputs'>\n",
      "<class 'mediapipe.python.solution_base.SolutionOutputs'>\n",
      "<class 'mediapipe.python.solution_base.SolutionOutputs'>\n",
      "<class 'mediapipe.python.solution_base.SolutionOutputs'>\n",
      "<class 'mediapipe.python.solution_base.SolutionOutputs'>\n",
      "<class 'mediapipe.python.solution_base.SolutionOutputs'>\n",
      "<class 'mediapipe.python.solution_base.SolutionOutputs'>\n",
      "<class 'mediapipe.python.solution_base.SolutionOutputs'>\n",
      "<class 'mediapipe.python.solution_base.SolutionOutputs'>\n",
      "<class 'mediapipe.python.solution_base.SolutionOutputs'>\n",
      "<class 'mediapipe.python.solution_base.SolutionOutputs'>\n",
      "<class 'mediapipe.python.solution_base.SolutionOutputs'>\n",
      "<class 'mediapipe.python.solution_base.SolutionOutputs'>\n",
      "<class 'mediapipe.python.solution_base.SolutionOutputs'>\n",
      "<class 'mediapipe.python.solution_base.SolutionOutputs'>\n",
      "<class 'mediapipe.python.solution_base.SolutionOutputs'>\n",
      "<class 'mediapipe.python.solution_base.SolutionOutputs'>\n",
      "<class 'mediapipe.python.solution_base.SolutionOutputs'>\n",
      "<class 'mediapipe.python.solution_base.SolutionOutputs'>\n",
      "<class 'mediapipe.python.solution_base.SolutionOutputs'>\n",
      "<class 'mediapipe.python.solution_base.SolutionOutputs'>\n",
      "<class 'mediapipe.python.solution_base.SolutionOutputs'>\n",
      "<class 'mediapipe.python.solution_base.SolutionOutputs'>\n",
      "<class 'mediapipe.python.solution_base.SolutionOutputs'>\n",
      "five\n",
      "<class 'mediapipe.python.solution_base.SolutionOutputs'>\n",
      "five\n",
      "<class 'mediapipe.python.solution_base.SolutionOutputs'>\n",
      "five\n",
      "<class 'mediapipe.python.solution_base.SolutionOutputs'>\n",
      "five\n",
      "<class 'mediapipe.python.solution_base.SolutionOutputs'>\n",
      "five\n",
      "<class 'mediapipe.python.solution_base.SolutionOutputs'>\n",
      "five\n",
      "<class 'mediapipe.python.solution_base.SolutionOutputs'>\n",
      "five\n",
      "<class 'mediapipe.python.solution_base.SolutionOutputs'>\n",
      "five\n",
      "<class 'mediapipe.python.solution_base.SolutionOutputs'>\n",
      "five\n",
      "<class 'mediapipe.python.solution_base.SolutionOutputs'>\n",
      "five\n",
      "<class 'mediapipe.python.solution_base.SolutionOutputs'>\n",
      "five\n",
      "<class 'mediapipe.python.solution_base.SolutionOutputs'>\n",
      "five\n",
      "<class 'mediapipe.python.solution_base.SolutionOutputs'>\n",
      "five\n",
      "<class 'mediapipe.python.solution_base.SolutionOutputs'>\n",
      "five\n",
      "<class 'mediapipe.python.solution_base.SolutionOutputs'>\n",
      "five\n",
      "<class 'mediapipe.python.solution_base.SolutionOutputs'>\n",
      "five\n",
      "<class 'mediapipe.python.solution_base.SolutionOutputs'>\n",
      "five\n",
      "<class 'mediapipe.python.solution_base.SolutionOutputs'>\n",
      "five\n",
      "<class 'mediapipe.python.solution_base.SolutionOutputs'>\n",
      "three\n",
      "<class 'mediapipe.python.solution_base.SolutionOutputs'>\n",
      "three\n",
      "<class 'mediapipe.python.solution_base.SolutionOutputs'>\n",
      "three\n",
      "<class 'mediapipe.python.solution_base.SolutionOutputs'>\n",
      "three\n",
      "<class 'mediapipe.python.solution_base.SolutionOutputs'>\n",
      "three\n",
      "<class 'mediapipe.python.solution_base.SolutionOutputs'>\n",
      "two\n",
      "<class 'mediapipe.python.solution_base.SolutionOutputs'>\n",
      "two\n",
      "<class 'mediapipe.python.solution_base.SolutionOutputs'>\n",
      "two\n",
      "<class 'mediapipe.python.solution_base.SolutionOutputs'>\n",
      "two\n",
      "<class 'mediapipe.python.solution_base.SolutionOutputs'>\n",
      "two\n",
      "<class 'mediapipe.python.solution_base.SolutionOutputs'>\n",
      "two\n",
      "<class 'mediapipe.python.solution_base.SolutionOutputs'>\n",
      "two\n",
      "<class 'mediapipe.python.solution_base.SolutionOutputs'>\n",
      "two\n",
      "<class 'mediapipe.python.solution_base.SolutionOutputs'>\n",
      "two\n",
      "<class 'mediapipe.python.solution_base.SolutionOutputs'>\n",
      "two\n",
      "<class 'mediapipe.python.solution_base.SolutionOutputs'>\n",
      "two\n",
      "<class 'mediapipe.python.solution_base.SolutionOutputs'>\n",
      "two\n",
      "<class 'mediapipe.python.solution_base.SolutionOutputs'>\n",
      "two\n",
      "<class 'mediapipe.python.solution_base.SolutionOutputs'>\n",
      "two\n",
      "<class 'mediapipe.python.solution_base.SolutionOutputs'>\n",
      "two\n",
      "<class 'mediapipe.python.solution_base.SolutionOutputs'>\n",
      "two\n",
      "<class 'mediapipe.python.solution_base.SolutionOutputs'>\n",
      "two\n",
      "<class 'mediapipe.python.solution_base.SolutionOutputs'>\n",
      "two\n",
      "<class 'mediapipe.python.solution_base.SolutionOutputs'>\n",
      "two\n",
      "<class 'mediapipe.python.solution_base.SolutionOutputs'>\n",
      "two\n",
      "<class 'mediapipe.python.solution_base.SolutionOutputs'>\n",
      "two\n",
      "<class 'mediapipe.python.solution_base.SolutionOutputs'>\n",
      "two\n",
      "<class 'mediapipe.python.solution_base.SolutionOutputs'>\n",
      "two\n",
      "<class 'mediapipe.python.solution_base.SolutionOutputs'>\n",
      "two\n",
      "<class 'mediapipe.python.solution_base.SolutionOutputs'>\n",
      "four\n",
      "<class 'mediapipe.python.solution_base.SolutionOutputs'>\n",
      "four\n",
      "<class 'mediapipe.python.solution_base.SolutionOutputs'>\n",
      "four\n",
      "<class 'mediapipe.python.solution_base.SolutionOutputs'>\n",
      "four\n",
      "<class 'mediapipe.python.solution_base.SolutionOutputs'>\n",
      "four\n",
      "<class 'mediapipe.python.solution_base.SolutionOutputs'>\n",
      "four\n",
      "<class 'mediapipe.python.solution_base.SolutionOutputs'>\n",
      "four\n",
      "<class 'mediapipe.python.solution_base.SolutionOutputs'>\n",
      "four\n",
      "<class 'mediapipe.python.solution_base.SolutionOutputs'>\n",
      "four\n",
      "<class 'mediapipe.python.solution_base.SolutionOutputs'>\n",
      "four\n",
      "<class 'mediapipe.python.solution_base.SolutionOutputs'>\n",
      "four\n",
      "<class 'mediapipe.python.solution_base.SolutionOutputs'>\n",
      "four\n",
      "<class 'mediapipe.python.solution_base.SolutionOutputs'>\n",
      "four\n",
      "<class 'mediapipe.python.solution_base.SolutionOutputs'>\n",
      "four\n",
      "<class 'mediapipe.python.solution_base.SolutionOutputs'>\n",
      "four\n",
      "<class 'mediapipe.python.solution_base.SolutionOutputs'>\n",
      "four\n",
      "<class 'mediapipe.python.solution_base.SolutionOutputs'>\n",
      "four\n",
      "<class 'mediapipe.python.solution_base.SolutionOutputs'>\n",
      "four\n",
      "<class 'mediapipe.python.solution_base.SolutionOutputs'>\n",
      "four\n",
      "<class 'mediapipe.python.solution_base.SolutionOutputs'>\n",
      "two\n",
      "<class 'mediapipe.python.solution_base.SolutionOutputs'>\n",
      "two\n",
      "<class 'mediapipe.python.solution_base.SolutionOutputs'>\n",
      "zero\n",
      "<class 'mediapipe.python.solution_base.SolutionOutputs'>\n",
      "zero\n",
      "<class 'mediapipe.python.solution_base.SolutionOutputs'>\n",
      "zero\n",
      "<class 'mediapipe.python.solution_base.SolutionOutputs'>\n",
      "zero\n",
      "<class 'mediapipe.python.solution_base.SolutionOutputs'>\n",
      "zero\n",
      "<class 'mediapipe.python.solution_base.SolutionOutputs'>\n",
      "zero\n",
      "<class 'mediapipe.python.solution_base.SolutionOutputs'>\n",
      "zero\n",
      "<class 'mediapipe.python.solution_base.SolutionOutputs'>\n",
      "zero\n",
      "<class 'mediapipe.python.solution_base.SolutionOutputs'>\n",
      "zero\n",
      "<class 'mediapipe.python.solution_base.SolutionOutputs'>\n",
      "zero\n",
      "<class 'mediapipe.python.solution_base.SolutionOutputs'>\n",
      "zero\n",
      "<class 'mediapipe.python.solution_base.SolutionOutputs'>\n",
      "zero\n",
      "<class 'mediapipe.python.solution_base.SolutionOutputs'>\n",
      "zero\n",
      "<class 'mediapipe.python.solution_base.SolutionOutputs'>\n",
      "zero\n",
      "<class 'mediapipe.python.solution_base.SolutionOutputs'>\n",
      "zero\n",
      "<class 'mediapipe.python.solution_base.SolutionOutputs'>\n",
      "zero\n",
      "<class 'mediapipe.python.solution_base.SolutionOutputs'>\n",
      "zero\n",
      "<class 'mediapipe.python.solution_base.SolutionOutputs'>\n",
      "zero\n",
      "<class 'mediapipe.python.solution_base.SolutionOutputs'>\n",
      "zero\n",
      "<class 'mediapipe.python.solution_base.SolutionOutputs'>\n",
      "zero\n",
      "<class 'mediapipe.python.solution_base.SolutionOutputs'>\n",
      "zero\n",
      "<class 'mediapipe.python.solution_base.SolutionOutputs'>\n",
      "zero\n",
      "<class 'mediapipe.python.solution_base.SolutionOutputs'>\n",
      "zero\n",
      "<class 'mediapipe.python.solution_base.SolutionOutputs'>\n",
      "zero\n",
      "<class 'mediapipe.python.solution_base.SolutionOutputs'>\n",
      "zero\n",
      "<class 'mediapipe.python.solution_base.SolutionOutputs'>\n",
      "zero\n",
      "<class 'mediapipe.python.solution_base.SolutionOutputs'>\n",
      "zero\n",
      "<class 'mediapipe.python.solution_base.SolutionOutputs'>\n",
      "zero\n",
      "<class 'mediapipe.python.solution_base.SolutionOutputs'>\n",
      "zero\n",
      "<class 'mediapipe.python.solution_base.SolutionOutputs'>\n",
      "zero\n",
      "<class 'mediapipe.python.solution_base.SolutionOutputs'>\n",
      "zero\n",
      "<class 'mediapipe.python.solution_base.SolutionOutputs'>\n",
      "zero\n",
      "<class 'mediapipe.python.solution_base.SolutionOutputs'>\n",
      "zero\n",
      "<class 'mediapipe.python.solution_base.SolutionOutputs'>\n",
      "zero\n",
      "<class 'mediapipe.python.solution_base.SolutionOutputs'>\n",
      "zero\n",
      "<class 'mediapipe.python.solution_base.SolutionOutputs'>\n",
      "zero\n",
      "<class 'mediapipe.python.solution_base.SolutionOutputs'>\n",
      "zero\n",
      "<class 'mediapipe.python.solution_base.SolutionOutputs'>\n",
      "zero\n"
     ]
    },
    {
     "name": "stdout",
     "output_type": "stream",
     "text": [
      "<class 'mediapipe.python.solution_base.SolutionOutputs'>\n",
      "zero\n",
      "<class 'mediapipe.python.solution_base.SolutionOutputs'>\n",
      "zero\n",
      "<class 'mediapipe.python.solution_base.SolutionOutputs'>\n",
      "zero\n",
      "<class 'mediapipe.python.solution_base.SolutionOutputs'>\n",
      "zero\n",
      "<class 'mediapipe.python.solution_base.SolutionOutputs'>\n",
      "zero\n",
      "<class 'mediapipe.python.solution_base.SolutionOutputs'>\n",
      "zero\n",
      "<class 'mediapipe.python.solution_base.SolutionOutputs'>\n",
      "zero\n",
      "<class 'mediapipe.python.solution_base.SolutionOutputs'>\n",
      "zero\n",
      "<class 'mediapipe.python.solution_base.SolutionOutputs'>\n",
      "zero\n",
      "<class 'mediapipe.python.solution_base.SolutionOutputs'>\n",
      "zero\n",
      "<class 'mediapipe.python.solution_base.SolutionOutputs'>\n",
      "zero\n",
      "<class 'mediapipe.python.solution_base.SolutionOutputs'>\n",
      "zero\n",
      "<class 'mediapipe.python.solution_base.SolutionOutputs'>\n",
      "zero\n",
      "<class 'mediapipe.python.solution_base.SolutionOutputs'>\n",
      "zero\n",
      "<class 'mediapipe.python.solution_base.SolutionOutputs'>\n",
      "zero\n",
      "<class 'mediapipe.python.solution_base.SolutionOutputs'>\n",
      "zero\n",
      "<class 'mediapipe.python.solution_base.SolutionOutputs'>\n",
      "zero\n",
      "<class 'mediapipe.python.solution_base.SolutionOutputs'>\n",
      "zero\n",
      "<class 'mediapipe.python.solution_base.SolutionOutputs'>\n",
      "two\n",
      "<class 'mediapipe.python.solution_base.SolutionOutputs'>\n",
      "two\n",
      "<class 'mediapipe.python.solution_base.SolutionOutputs'>\n",
      "two\n",
      "<class 'mediapipe.python.solution_base.SolutionOutputs'>\n",
      "two\n",
      "<class 'mediapipe.python.solution_base.SolutionOutputs'>\n",
      "two\n",
      "<class 'mediapipe.python.solution_base.SolutionOutputs'>\n",
      "two\n",
      "<class 'mediapipe.python.solution_base.SolutionOutputs'>\n",
      "two\n",
      "<class 'mediapipe.python.solution_base.SolutionOutputs'>\n",
      "two\n",
      "<class 'mediapipe.python.solution_base.SolutionOutputs'>\n",
      "two\n",
      "<class 'mediapipe.python.solution_base.SolutionOutputs'>\n",
      "two\n",
      "<class 'mediapipe.python.solution_base.SolutionOutputs'>\n",
      "two\n",
      "<class 'mediapipe.python.solution_base.SolutionOutputs'>\n",
      "two\n",
      "<class 'mediapipe.python.solution_base.SolutionOutputs'>\n",
      "two\n",
      "<class 'mediapipe.python.solution_base.SolutionOutputs'>\n",
      "four\n",
      "<class 'mediapipe.python.solution_base.SolutionOutputs'>\n",
      "four\n",
      "<class 'mediapipe.python.solution_base.SolutionOutputs'>\n",
      "four\n",
      "<class 'mediapipe.python.solution_base.SolutionOutputs'>\n",
      "four\n",
      "<class 'mediapipe.python.solution_base.SolutionOutputs'>\n",
      "five\n",
      "<class 'mediapipe.python.solution_base.SolutionOutputs'>\n",
      "five\n",
      "<class 'mediapipe.python.solution_base.SolutionOutputs'>\n",
      "five\n",
      "<class 'mediapipe.python.solution_base.SolutionOutputs'>\n",
      "five\n",
      "<class 'mediapipe.python.solution_base.SolutionOutputs'>\n",
      "five\n",
      "<class 'mediapipe.python.solution_base.SolutionOutputs'>\n",
      "five\n",
      "<class 'mediapipe.python.solution_base.SolutionOutputs'>\n",
      "five\n",
      "<class 'mediapipe.python.solution_base.SolutionOutputs'>\n",
      "five\n",
      "<class 'mediapipe.python.solution_base.SolutionOutputs'>\n",
      "five\n",
      "<class 'mediapipe.python.solution_base.SolutionOutputs'>\n",
      "five\n",
      "<class 'mediapipe.python.solution_base.SolutionOutputs'>\n",
      "five\n",
      "<class 'mediapipe.python.solution_base.SolutionOutputs'>\n",
      "five\n",
      "<class 'mediapipe.python.solution_base.SolutionOutputs'>\n",
      "five\n",
      "<class 'mediapipe.python.solution_base.SolutionOutputs'>\n",
      "five\n",
      "<class 'mediapipe.python.solution_base.SolutionOutputs'>\n",
      "five\n",
      "<class 'mediapipe.python.solution_base.SolutionOutputs'>\n",
      "five\n",
      "<class 'mediapipe.python.solution_base.SolutionOutputs'>\n",
      "five\n",
      "<class 'mediapipe.python.solution_base.SolutionOutputs'>\n",
      "five\n",
      "<class 'mediapipe.python.solution_base.SolutionOutputs'>\n",
      "five\n",
      "<class 'mediapipe.python.solution_base.SolutionOutputs'>\n",
      "five\n",
      "<class 'mediapipe.python.solution_base.SolutionOutputs'>\n",
      "five\n",
      "<class 'mediapipe.python.solution_base.SolutionOutputs'>\n",
      "five\n",
      "<class 'mediapipe.python.solution_base.SolutionOutputs'>\n",
      "five\n",
      "<class 'mediapipe.python.solution_base.SolutionOutputs'>\n",
      "five\n",
      "<class 'mediapipe.python.solution_base.SolutionOutputs'>\n",
      "five\n",
      "<class 'mediapipe.python.solution_base.SolutionOutputs'>\n",
      "five\n",
      "<class 'mediapipe.python.solution_base.SolutionOutputs'>\n",
      "five\n",
      "<class 'mediapipe.python.solution_base.SolutionOutputs'>\n",
      "five\n",
      "<class 'mediapipe.python.solution_base.SolutionOutputs'>\n",
      "five\n",
      "<class 'mediapipe.python.solution_base.SolutionOutputs'>\n",
      "five\n",
      "<class 'mediapipe.python.solution_base.SolutionOutputs'>\n",
      "five\n",
      "<class 'mediapipe.python.solution_base.SolutionOutputs'>\n",
      "five\n",
      "<class 'mediapipe.python.solution_base.SolutionOutputs'>\n",
      "five\n",
      "<class 'mediapipe.python.solution_base.SolutionOutputs'>\n",
      "five\n",
      "<class 'mediapipe.python.solution_base.SolutionOutputs'>\n",
      "five\n",
      "<class 'mediapipe.python.solution_base.SolutionOutputs'>\n",
      "five\n",
      "<class 'mediapipe.python.solution_base.SolutionOutputs'>\n",
      "five\n",
      "<class 'mediapipe.python.solution_base.SolutionOutputs'>\n",
      "five\n",
      "<class 'mediapipe.python.solution_base.SolutionOutputs'>\n",
      "five\n",
      "<class 'mediapipe.python.solution_base.SolutionOutputs'>\n",
      "three\n",
      "<class 'mediapipe.python.solution_base.SolutionOutputs'>\n",
      "three\n",
      "<class 'mediapipe.python.solution_base.SolutionOutputs'>\n",
      "three\n",
      "<class 'mediapipe.python.solution_base.SolutionOutputs'>\n",
      "three\n",
      "<class 'mediapipe.python.solution_base.SolutionOutputs'>\n",
      "three\n",
      "<class 'mediapipe.python.solution_base.SolutionOutputs'>\n",
      "three\n",
      "<class 'mediapipe.python.solution_base.SolutionOutputs'>\n",
      "three\n",
      "<class 'mediapipe.python.solution_base.SolutionOutputs'>\n",
      "three\n",
      "<class 'mediapipe.python.solution_base.SolutionOutputs'>\n",
      "three\n",
      "<class 'mediapipe.python.solution_base.SolutionOutputs'>\n",
      "three\n",
      "<class 'mediapipe.python.solution_base.SolutionOutputs'>\n",
      "three\n",
      "<class 'mediapipe.python.solution_base.SolutionOutputs'>\n",
      "three\n",
      "<class 'mediapipe.python.solution_base.SolutionOutputs'>\n",
      "three\n",
      "<class 'mediapipe.python.solution_base.SolutionOutputs'>\n",
      "three\n",
      "<class 'mediapipe.python.solution_base.SolutionOutputs'>\n",
      "three\n",
      "<class 'mediapipe.python.solution_base.SolutionOutputs'>\n",
      "three\n",
      "<class 'mediapipe.python.solution_base.SolutionOutputs'>\n",
      "three\n",
      "<class 'mediapipe.python.solution_base.SolutionOutputs'>\n",
      "three\n",
      "<class 'mediapipe.python.solution_base.SolutionOutputs'>\n",
      "three\n",
      "<class 'mediapipe.python.solution_base.SolutionOutputs'>\n",
      "three\n",
      "<class 'mediapipe.python.solution_base.SolutionOutputs'>\n",
      "two\n",
      "<class 'mediapipe.python.solution_base.SolutionOutputs'>\n",
      "two\n",
      "<class 'mediapipe.python.solution_base.SolutionOutputs'>\n",
      "two\n",
      "<class 'mediapipe.python.solution_base.SolutionOutputs'>\n",
      "two\n",
      "<class 'mediapipe.python.solution_base.SolutionOutputs'>\n",
      "two\n",
      "<class 'mediapipe.python.solution_base.SolutionOutputs'>\n",
      "two\n"
     ]
    }
   ],
   "source": [
    "engine = pyttsx3.init()\n",
    "voices = engine.getProperty('voices')\n",
    "engine.setProperty('voice', voices[1].id)\n",
    "volume = engine.getProperty('volume')\n",
    "engine.setProperty('volume',1.0)\n",
    "rate = engine.getProperty('rate')\n",
    "engine.setProperty('rate', 125) \n",
    "\n",
    "\n",
    "# 1. New detection variables\n",
    "sequence = []\n",
    "sentence = []\n",
    "predictions = []\n",
    "threshold = 0.7\n",
    "\n",
    "cap = cv2.VideoCapture(0)\n",
    "# Set mediapipe model \n",
    "with mp_holistic.Holistic(min_detection_confidence=0.5, min_tracking_confidence=0.5) as holistic:\n",
    "    while cap.isOpened():\n",
    "\n",
    "        # Read feed\n",
    "        ret, frame = cap.read()\n",
    "\n",
    "        # Make detections\n",
    "        image, results = mediapipe_detection(frame, holistic)\n",
    "        print(results)\n",
    "        \n",
    "        # Draw landmarks\n",
    "        draw_landmarks(image, results)\n",
    "        \n",
    "        # 2. Prediction logic\n",
    "        keypoints = extract_keypoints(results)\n",
    "        sequence.append(keypoints)\n",
    "        sequence = sequence[-30:]\n",
    "        \n",
    "        if len(sequence) == 30:\n",
    "            res = model.predict(np.expand_dims(sequence, axis=0))[0]\n",
    "            print(actions[np.argmax(res)])\n",
    "            predictions.append(np.argmax(res))\n",
    "            \n",
    "            \n",
    "        #3. Viz logic\n",
    "            if np.unique(predictions[-10:])[0]==np.argmax(res): \n",
    "                if res[np.argmax(res)] > threshold: \n",
    "                    \n",
    "                    if len(sentence) > 0: \n",
    "                        if actions[np.argmax(res)] != sentence[-1]:\n",
    "                            sentence.append(actions[np.argmax(res)])\n",
    "                    else:\n",
    "                        sentence.append(actions[np.argmax(res)])\n",
    "\n",
    "            if len(sentence) > 10: \n",
    "                sentence = sentence[-10:]\n",
    "            \n",
    "        cv2.rectangle(image, (0,0), (640, 40), (0, 0, 0), -1)\n",
    "        cv2.putText(image, ' '.join(sentence), (3,30), \n",
    "                       cv2.FONT_HERSHEY_SIMPLEX, 1, (255, 255, 255), 2, cv2.LINE_AA)\n",
    "        \n",
    "        # Authintication\n",
    "        password = ['five', 'three', 'one', 'zero']\n",
    "        access_status = np.array_equal(password,sentence)\n",
    "        if len(sentence) == 4:\n",
    "            if access_status:\n",
    "                cv2.rectangle(image, (0,40), (640, 80), (50, 50, 50), -1)\n",
    "                cv2.putText(image, 'Access Granted', (3,70), \n",
    "                               cv2.FONT_HERSHEY_SIMPLEX, 1, (255, 255, 255), 2, cv2.LINE_AA)\n",
    "                engine.say(\"Access Granted\")\n",
    "                engine.runAndWait()\n",
    "                engine.stop()\n",
    "                break\n",
    "            elif access_status == 0:\n",
    "                cv2.rectangle(image, (0,40), (640, 80), (50, 50, 50), -1)\n",
    "                cv2.putText(image, 'Access Denied', (3,70), \n",
    "                               cv2.FONT_HERSHEY_SIMPLEX, 1, (255, 255, 255), 2, cv2.LINE_AA)\n",
    "                engine.say(\"Access Denied, please try again\")\n",
    "                engine.runAndWait()\n",
    "                engine.stop()\n",
    "                sentence.clear()\n",
    "        \n",
    "        # Show to screen\n",
    "        cv2.imshow('OpenCV Feed', image)\n",
    "\n",
    "        # Break gracefully\n",
    "        if cv2.waitKey(10) & 0xFF == ord('q'):\n",
    "            break\n",
    "    cap.release()\n",
    "    cv2.destroyAllWindows()"
   ]
  },
  {
   "cell_type": "code",
   "execution_count": 90,
   "id": "497ddc6c",
   "metadata": {},
   "outputs": [],
   "source": [
    "cap.release()\n",
    "cv2.destroyAllWindows()"
   ]
  }
 ],
 "metadata": {
  "kernelspec": {
   "display_name": "MachineVision",
   "language": "python",
   "name": "machinevision"
  },
  "language_info": {
   "codemirror_mode": {
    "name": "ipython",
    "version": 3
   },
   "file_extension": ".py",
   "mimetype": "text/x-python",
   "name": "python",
   "nbconvert_exporter": "python",
   "pygments_lexer": "ipython3",
   "version": "3.7.15"
  }
 },
 "nbformat": 4,
 "nbformat_minor": 5
}
